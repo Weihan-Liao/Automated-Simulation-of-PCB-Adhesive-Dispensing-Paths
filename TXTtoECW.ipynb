{
 "cells": [
  {
   "cell_type": "code",
   "execution_count": 1,
   "metadata": {},
   "outputs": [],
   "source": [
    "import sys          #convert txt to ecw\n",
    "with open(\"two_blocks.txt\", \"r\") as txtFile:\n",
    "    lines = txtFile.readlines()\n",
    "    with open(\"two_blocks.ecw\", \"wb\") as binaryFile:     \n",
    "        for line in lines:\n",
    "            line.strip()\n",
    "            arr=line[2:len(line)-2]\n",
    "            index =0\n",
    "            while index < len(arr):\n",
    "                if(arr[index]==\"\\\\\"):\n",
    "                    if( arr[index+1]==\"x\"):\n",
    "                        binaryFile.write(bytes.fromhex(arr[index+2]+arr[index+3]) )\n",
    "                        index = index+3\n",
    "                    elif(arr[index+1]==\"n\"):\n",
    "                        binaryFile.write(bytes.fromhex(\"0\"+\"a\") )\n",
    "                        index = index+1\n",
    "                    elif(arr[index+1]==\"r\"):                       \n",
    "                        index = index+1\n",
    "                        binaryFile.write(bytes.fromhex(\"0\"+\"d\") )\n",
    "                    elif(arr[index+1]==\"t\"):\n",
    "                        binaryFile.write(bytes.fromhex(\"0\"+\"9\") )\n",
    "                        index = index+1\n",
    "                else: # char\n",
    "                    binaryFile.write(bytes.fromhex(format(ord(arr[index]),'x')))\n",
    "                index +=1\n",
    "    binaryFile.close()\n",
    "txtFile.close()"
   ]
  },
  {
   "cell_type": "code",
   "execution_count": 1,
   "metadata": {},
   "outputs": [
    {
     "data": {
      "text/plain": [
       "<function TextIOWrapper.close()>"
      ]
     },
     "execution_count": 1,
     "metadata": {},
     "output_type": "execute_result"
    }
   ],
   "source": [
    "import sys                  #readin ecw, output txt\n",
    "file = open(\"234.ECW\", \"rb\")\n",
    "#file = open(\"animals.h5\", \"rb\")\n",
    "original_stdout = sys.stdout    \n",
    "with open('234-4.txt', 'w') as f:\n",
    "#    with open(\"mmXmmfff.ecw\", \"wb\") as fbi:\n",
    "        sys.stdout = f \n",
    "        byte = file.read(20)\n",
    "        while byte:\n",
    "            print(byte)\n",
    "#           fbi.write(byte)\n",
    "            byte = file.read(20)\n",
    "        file.close()\n",
    "    # Reset the standard output\n",
    "        sys.stdout = original_stdout \n",
    "#    fbi.close\n",
    "f.close"
   ]
  },
  {
   "cell_type": "code",
   "execution_count": null,
   "metadata": {},
   "outputs": [],
   "source": []
  }
 ],
 "metadata": {
  "kernelspec": {
   "display_name": "Python 3",
   "language": "python",
   "name": "python3"
  },
  "language_info": {
   "codemirror_mode": {
    "name": "ipython",
    "version": 3
   },
   "file_extension": ".py",
   "mimetype": "text/x-python",
   "name": "python",
   "nbconvert_exporter": "python",
   "pygments_lexer": "ipython3",
   "version": "3.7.4"
  }
 },
 "nbformat": 4,
 "nbformat_minor": 2
}
